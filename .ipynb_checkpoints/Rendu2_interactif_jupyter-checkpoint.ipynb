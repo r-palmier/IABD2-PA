{
 "cells": [
  {
   "cell_type": "markdown",
   "id": "f32a414d",
   "metadata": {},
   "source": [
    "# Projet Annuel\n",
    "## Objectif du notebook :\n",
    "\n",
    "- Présenter tes expérimentations (sur les jeux de données simples + ton dataset final),\n",
    "\n",
    "- Afficher les résultats des tests de tes modèles (LinearModel, Perceptron, etc.),\n",
    "\n",
    "- Visualiser les comportements (graphiques, courbes de loss, précision, etc.),\n",
    "\n",
    "- Analyser ce que tu observes (commentaires, comparaison entre modèles),\n",
    "\n",
    "- Mettre en évidence des phénomènes vus en cours (sous-apprentissage, sur-apprentissage, etc.)."
   ]
  },
  {
   "cell_type": "markdown",
   "id": "dd33980c",
   "metadata": {},
   "source": [
    "# Projet Annuel — Rendu 2 Interactif\n",
    "### Classification binaire avec modèles maison en Rust\n",
    "Étudiants : Robin Palmier, Kirtika Senthilnathan, Mathis TE\n"
   ]
  },
  {
   "cell_type": "code",
   "execution_count": null,
   "id": "0c9b2f9c",
   "metadata": {},
   "outputs": [],
   "source": [
    "import pandas as pd\n",
    "import matplotlib.pyplot as plt\n"
   ]
  },
  {
   "cell_type": "code",
   "execution_count": null,
   "id": "d6dd777a",
   "metadata": {},
   "outputs": [],
   "source": [
    "#Chargement des prédictions\n",
    "\n",
    "df_linear = pd.read_csv(\"src/data/linear_results.csv\")\n",
    "df_pmc = pd.read_csv(\"src/data/pmc_results.csv\")\n",
    "\n"
   ]
  },
  {
   "cell_type": "code",
   "execution_count": null,
   "id": "b048f873",
   "metadata": {},
   "outputs": [],
   "source": [
    "#Analyse erreurs linéaire\n",
    "\n",
    "df_linear[\"erreur_abs\"] = (df_linear[\"label\"] - df_linear[\"prediction\"]).abs()\n",
    "df_linear\n"
   ]
  },
  {
   "cell_type": "code",
   "execution_count": null,
   "id": "f2b3339c",
   "metadata": {},
   "outputs": [],
   "source": [
    "# Graphique comparatif\n",
    "\n",
    "plt.figure(figsize=(6,4))\n",
    "plt.plot(df_linear[\"label\"], label=\"Réel\", marker=\"o\")\n",
    "plt.plot(df_linear[\"prediction\"], label=\"Prédit\", marker=\"x\")\n",
    "plt.title(\"Modèle Linéaire (après transformation)\")\n",
    "plt.xlabel(\"Index\")\n",
    "plt.ylabel(\"Sortie\")\n",
    "plt.legend()\n",
    "plt.grid()\n",
    "plt.show()\n"
   ]
  }
 ],
 "metadata": {
  "kernelspec": {
   "display_name": ".venv",
   "language": "python",
   "name": "python3"
  },
  "language_info": {
   "codemirror_mode": {
    "name": "ipython",
    "version": 3
   },
   "file_extension": ".py",
   "mimetype": "text/x-python",
   "name": "python",
   "nbconvert_exporter": "python",
   "pygments_lexer": "ipython3",
   "version": "3.12.6"
  }
 },
 "nbformat": 4,
 "nbformat_minor": 5
}
