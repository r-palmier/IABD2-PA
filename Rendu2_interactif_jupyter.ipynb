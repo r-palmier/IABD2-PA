{
 "cells": [
  {
   "cell_type": "markdown",
   "id": "f32a414d",
   "metadata": {},
   "source": [
    "# Projet Annuel\n",
    "## Objectif du notebook :\n",
    "\n",
    "- Présenter tes expérimentations (sur les jeux de données simples + ton dataset final),\n",
    "\n",
    "- Afficher les résultats des tests de tes modèles (LinearModel, Perceptron, etc.),\n",
    "\n",
    "- Visualiser les comportements (graphiques, courbes de loss, précision, etc.),\n",
    "\n",
    "- Analyser ce que tu observes (commentaires, comparaison entre modèles),\n",
    "\n",
    "- Mettre en évidence des phénomènes vus en cours (sous-apprentissage, sur-apprentissage, etc.)."
   ]
  },
  {
   "cell_type": "markdown",
   "id": "dd33980c",
   "metadata": {},
   "source": [
    "# Projet Annuel — Rendu 2 Interactif\n",
    "### Classification binaire avec modèles maison en Rust\n",
    "Étudiants : Robin Palmier, Kirtika Senthilnathan, Mathis TE\n"
   ]
  },
  {
   "cell_type": "code",
   "execution_count": 3,
   "id": "0c9b2f9c",
   "metadata": {},
   "outputs": [
    {
     "ename": "ModuleNotFoundError",
     "evalue": "No module named 'pandas'",
     "output_type": "error",
     "traceback": [
      "\u001b[31m---------------------------------------------------------------------------\u001b[39m",
      "\u001b[31mModuleNotFoundError\u001b[39m                       Traceback (most recent call last)",
      "\u001b[36mCell\u001b[39m\u001b[36m \u001b[39m\u001b[32mIn[3]\u001b[39m\u001b[32m, line 1\u001b[39m\n\u001b[32m----> \u001b[39m\u001b[32m1\u001b[39m \u001b[38;5;28;01mimport\u001b[39;00m\u001b[38;5;250m \u001b[39m\u001b[34;01mpandas\u001b[39;00m\u001b[38;5;250m \u001b[39m\u001b[38;5;28;01mas\u001b[39;00m\u001b[38;5;250m \u001b[39m\u001b[34;01mpd\u001b[39;00m\n\u001b[32m      2\u001b[39m \u001b[38;5;28;01mimport\u001b[39;00m\u001b[38;5;250m \u001b[39m\u001b[34;01mmatplotlib\u001b[39;00m\u001b[34;01m.\u001b[39;00m\u001b[34;01mpyplot\u001b[39;00m\u001b[38;5;250m \u001b[39m\u001b[38;5;28;01mas\u001b[39;00m\u001b[38;5;250m \u001b[39m\u001b[34;01mplt\u001b[39;00m\n",
      "\u001b[31mModuleNotFoundError\u001b[39m: No module named 'pandas'"
     ]
    }
   ],
   "source": [
    "import pandas as pd\n",
    "import matplotlib.pyplot as plt\n"
   ]
  },
  {
   "cell_type": "code",
   "execution_count": 2,
   "id": "d6dd777a",
   "metadata": {},
   "outputs": [
    {
     "ename": "NameError",
     "evalue": "name 'pd' is not defined",
     "output_type": "error",
     "traceback": [
      "\u001b[31m---------------------------------------------------------------------------\u001b[39m",
      "\u001b[31mNameError\u001b[39m                                 Traceback (most recent call last)",
      "\u001b[36mCell\u001b[39m\u001b[36m \u001b[39m\u001b[32mIn[2]\u001b[39m\u001b[32m, line 3\u001b[39m\n\u001b[32m      1\u001b[39m \u001b[38;5;66;03m#Chargement des prédictions\u001b[39;00m\n\u001b[32m----> \u001b[39m\u001b[32m3\u001b[39m df_linear = \u001b[43mpd\u001b[49m.read_csv(\u001b[33m\"\u001b[39m\u001b[33msrc/data/linear_results.csv\u001b[39m\u001b[33m\"\u001b[39m)\n\u001b[32m      4\u001b[39m df_pmc = pd.read_csv(\u001b[33m\"\u001b[39m\u001b[33msrc/data/pmc_results.csv\u001b[39m\u001b[33m\"\u001b[39m)\n",
      "\u001b[31mNameError\u001b[39m: name 'pd' is not defined"
     ]
    }
   ],
   "source": [
    "#Chargement des prédictions\n",
    "\n",
    "df_linear = pd.read_csv(\"src/data/linear_results.csv\")\n",
    "df_pmc = pd.read_csv(\"src/data/pmc_results.csv\")\n"
   ]
  },
  {
   "cell_type": "code",
   "execution_count": null,
   "id": "b048f873",
   "metadata": {},
   "outputs": [],
   "source": [
    "#Analyse erreurs linéaire\n",
    "\n",
    "df_linear[\"erreur_abs\"] = (df_linear[\"label\"] - df_linear[\"prediction\"]).abs()\n",
    "df_linear\n"
   ]
  },
  {
   "cell_type": "code",
   "execution_count": null,
   "id": "f2b3339c",
   "metadata": {},
   "outputs": [],
   "source": [
    "# Graphique comparatif\n",
    "\n",
    "plt.figure(figsize=(6,4))\n",
    "plt.plot(df_linear[\"label\"], label=\"Réel\", marker=\"o\")\n",
    "plt.plot(df_linear[\"prediction\"], label=\"Prédit\", marker=\"x\")\n",
    "plt.title(\"Modèle Linéaire (après transformation)\")\n",
    "plt.xlabel(\"Index\")\n",
    "plt.ylabel(\"Sortie\")\n",
    "plt.legend()\n",
    "plt.grid()\n",
    "plt.show()\n"
   ]
  }
 ],
 "metadata": {
  "kernelspec": {
   "display_name": ".venv",
   "language": "python",
   "name": "python3"
  },
  "language_info": {
   "codemirror_mode": {
    "name": "ipython",
    "version": 3
   },
   "file_extension": ".py",
   "mimetype": "text/x-python",
   "name": "python",
   "nbconvert_exporter": "python",
   "pygments_lexer": "ipython3",
   "version": "3.12.6"
  }
 },
 "nbformat": 4,
 "nbformat_minor": 5
}
