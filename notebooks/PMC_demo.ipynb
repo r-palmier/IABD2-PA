{
 "cells": [
  {
   "cell_type": "code",
   "execution_count": null,
   "id": "1690af3c",
   "metadata": {},
   "outputs": [],
   "source": [
    "import subprocess\n",
    "import numpy as np\n",
    "import matplotlib.pyplot as plt"
   ]
  },
  {
   "cell_type": "code",
   "execution_count": null,
   "id": "56180069",
   "metadata": {},
   "outputs": [],
   "source": [
    "# Dataset XOR\n",
    "X = np.array([[0, 0],\n",
    "              [0, 1],\n",
    "              [1, 0],\n",
    "              [1, 1]])\n",
    "y = np.array([0, 1, 1, 0])"
   ]
  },
  {
   "cell_type": "code",
   "execution_count": null,
   "id": "fd59c93f",
   "metadata": {},
   "outputs": [],
   "source": [
    "# Sauvegarde CSV (format x1,x2,y)\n",
    "data = np.column_stack((X, y))\n",
    "np.savetxt(\"data_xor.csv\", data, delimiter=\",\", header=\"x1,x2,y\", comments='')\n",
    "print(\"Dataset XOR sauvegardé dans data_xor.csv\")\n",
    "\n",
    "print(\"Lancement du binaire Rust d'entraînement...\")\n",
    "result = subprocess.run(\n",
    "    [\"cargo\", \"run\", \"--bin\", \"train_pmc\", \"--\", \"data_xor.csv\"],\n",
    "    capture_output=True, text=True, check=True\n",
    ")\n",
    "print(\"Sortie du binaire :\")\n",
    "print(result.stdout)"
   ]
  },
  {
   "cell_type": "code",
   "execution_count": null,
   "id": "3a731501",
   "metadata": {},
   "outputs": [],
   "source": [
    "# Affichage des prédictions\n",
    "try:\n",
    "    results = np.loadtxt(\"results.csv\", delimiter=\",\")\n",
    "    plt.scatter(X[:, 0], X[:, 1], c=y, cmap='bwr', edgecolors='k', label=\"Données vraies\", s=100)\n",
    "    plt.scatter(X[:, 0], X[:, 1], c=results, cmap='cool', marker=\"x\", label=\"Prédictions\", s=150)\n",
    "    plt.title(\"PMC - XOR\")\n",
    "    plt.legend()\n",
    "    plt.show()\n",
    "except FileNotFoundError:\n",
    "    print(\"Fichier results.csv non trouvé.\")"
   ]
  }
 ],
 "metadata": {
  "kernelspec": {
   "display_name": "Python 3",
   "language": "python",
   "name": "python3"
  },
  "language_info": {
   "codemirror_mode": {
    "name": "ipython",
    "version": 3
   },
   "file_extension": ".py",
   "mimetype": "text/x-python",
   "name": "python",
   "nbconvert_exporter": "python",
   "pygments_lexer": "ipython3",
   "version": "3.12.6"
  }
 },
 "nbformat": 4,
 "nbformat_minor": 5
}
